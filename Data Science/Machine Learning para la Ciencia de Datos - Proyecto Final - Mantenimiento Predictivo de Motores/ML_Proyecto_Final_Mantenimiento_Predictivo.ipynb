{
  "nbformat": 4,
  "nbformat_minor": 0,
  "metadata": {
    "colab": {
      "provenance": []
    },
    "kernelspec": {
      "name": "python3",
      "display_name": "Python 3"
    },
    "language_info": {
      "name": "python"
    }
  },
  "cells": [
    {
      "cell_type": "markdown",
      "source": [
        "# 📊 Proyecto: Mantenimiento Predictivo de Motores\n",
        "Este proyecto aplica Machine Learning para predecir si un motor industrial fallará en los próximos 30 días.\n",
        "Los datos fueron generados simulando registros de sensores, mantenimientos y fallas.\n",
        "Fueron integrados con SQL Server, exportados a CSV y serán analizados en Python usando técnicas de clasificación binaria.\n"
      ],
      "metadata": {
        "id": "wghooW9WXzI_"
      }
    },
    {
      "cell_type": "markdown",
      "source": [
        "## 🎯 Definición del problema\n",
        "\n",
        "El mantenimiento de motores industriales representa un desafío clave en la gestión operativa de plantas productivas. Las fallas imprevistas generan paradas no programadas, costos elevados por urgencias y pérdida de productividad.\n",
        "\n",
        "Este proyecto aplica técnicas de Machine Learning para **predecir si un motor fallará en los próximos 30 días**, a partir de datos históricos de sensores, mantenimientos y fallas. El objetivo es anticipar posibles fallas con suficiente anticipación para permitir acciones preventivas y optimizar recursos.\n",
        "\n",
        "---\n",
        "\n",
        "## 🧠 Pregunta del proyecto\n",
        "\n",
        "> **¿Podemos predecir con datos de sensores si un motor está en riesgo de falla en los próximos 30 días?**\n",
        "\n",
        "---"
      ],
      "metadata": {
        "id": "UWr02IEiqqE_"
      }
    },
    {
      "cell_type": "code",
      "execution_count": 33,
      "metadata": {
        "id": "T048rupEXFGa"
      },
      "outputs": [],
      "source": [
        "# Carga de librerías esenciales\n",
        "import pandas as pd\n",
        "import numpy as np\n",
        "import matplotlib.pyplot as plt\n",
        "import seaborn as sns\n",
        "\n",
        "from sklearn.model_selection import train_test_split\n",
        "from sklearn.ensemble import RandomForestClassifier\n",
        "from sklearn.metrics import classification_report, confusion_matrix, roc_curve, roc_auc_score\n",
        "\n",
        "import warnings\n",
        "warnings.filterwarnings('ignore')\n"
      ]
    },
    {
      "cell_type": "markdown",
      "source": [
        "## 📥 Carga del Dataset\n",
        "\n",
        "Vamos a cargar el archivo `sensores_maestra.csv` que contiene las lecturas diarias de los motores, junto con información de mantenimiento, fallas y la variable objetivo `falla_en_30_dias`.\n"
      ],
      "metadata": {
        "id": "gFpqfdGkX_R2"
      }
    },
    {
      "cell_type": "code",
      "source": [
        "# Subí el archivo manualmente en Colab antes de correr esta celda\n",
        "ruta = '/content/sensores_maestra.csv'\n",
        "\n",
        "# Cargar el archivo en un DataFrame, especificando el delimitador como coma\n",
        "# y saltando las primeras 7 filas para usar la fila 8 como encabezado.\n",
        "df = pd.read_csv(ruta, sep=';')\n",
        "\n",
        "# Ver las primeras filas y las columnas\n",
        "df.head()"
      ],
      "metadata": {
        "colab": {
          "base_uri": "https://localhost:8080/",
          "height": 206
        },
        "id": "_oJpn1TLYAMJ",
        "outputId": "9ec0d41a-f667-424e-e4b7-bda0f12a504a"
      },
      "execution_count": 34,
      "outputs": [
        {
          "output_type": "execute_result",
          "data": {
            "text/plain": [
              "        fecha motor_id  corriente  temperatura  vibracion tipo_mtto  \\\n",
              "0  2025-01-01  MTR_001        972         7509        306       NaN   \n",
              "1  2025-01-02  MTR_001        899         7045        242       NaN   \n",
              "2  2025-01-03  MTR_001       1027         7402        294       NaN   \n",
              "3  2025-01-04  MTR_001        859          728        259       NaN   \n",
              "4  2025-01-05  MTR_001        954         7575        204       NaN   \n",
              "\n",
              "  fecha_mtto tipo_falla fecha_falla  falla_en_30_dias  \n",
              "0        NaN  mecÃ¡nica  2025-06-22                 0  \n",
              "1        NaN  mecÃ¡nica  2025-06-22                 0  \n",
              "2        NaN  mecÃ¡nica  2025-06-22                 0  \n",
              "3        NaN  mecÃ¡nica  2025-06-22                 0  \n",
              "4        NaN  mecÃ¡nica  2025-06-22                 0  "
            ],
            "text/html": [
              "\n",
              "  <div id=\"df-98d3a6e2-d605-45e0-ba58-56d1216bc74c\" class=\"colab-df-container\">\n",
              "    <div>\n",
              "<style scoped>\n",
              "    .dataframe tbody tr th:only-of-type {\n",
              "        vertical-align: middle;\n",
              "    }\n",
              "\n",
              "    .dataframe tbody tr th {\n",
              "        vertical-align: top;\n",
              "    }\n",
              "\n",
              "    .dataframe thead th {\n",
              "        text-align: right;\n",
              "    }\n",
              "</style>\n",
              "<table border=\"1\" class=\"dataframe\">\n",
              "  <thead>\n",
              "    <tr style=\"text-align: right;\">\n",
              "      <th></th>\n",
              "      <th>fecha</th>\n",
              "      <th>motor_id</th>\n",
              "      <th>corriente</th>\n",
              "      <th>temperatura</th>\n",
              "      <th>vibracion</th>\n",
              "      <th>tipo_mtto</th>\n",
              "      <th>fecha_mtto</th>\n",
              "      <th>tipo_falla</th>\n",
              "      <th>fecha_falla</th>\n",
              "      <th>falla_en_30_dias</th>\n",
              "    </tr>\n",
              "  </thead>\n",
              "  <tbody>\n",
              "    <tr>\n",
              "      <th>0</th>\n",
              "      <td>2025-01-01</td>\n",
              "      <td>MTR_001</td>\n",
              "      <td>972</td>\n",
              "      <td>7509</td>\n",
              "      <td>306</td>\n",
              "      <td>NaN</td>\n",
              "      <td>NaN</td>\n",
              "      <td>mecÃ¡nica</td>\n",
              "      <td>2025-06-22</td>\n",
              "      <td>0</td>\n",
              "    </tr>\n",
              "    <tr>\n",
              "      <th>1</th>\n",
              "      <td>2025-01-02</td>\n",
              "      <td>MTR_001</td>\n",
              "      <td>899</td>\n",
              "      <td>7045</td>\n",
              "      <td>242</td>\n",
              "      <td>NaN</td>\n",
              "      <td>NaN</td>\n",
              "      <td>mecÃ¡nica</td>\n",
              "      <td>2025-06-22</td>\n",
              "      <td>0</td>\n",
              "    </tr>\n",
              "    <tr>\n",
              "      <th>2</th>\n",
              "      <td>2025-01-03</td>\n",
              "      <td>MTR_001</td>\n",
              "      <td>1027</td>\n",
              "      <td>7402</td>\n",
              "      <td>294</td>\n",
              "      <td>NaN</td>\n",
              "      <td>NaN</td>\n",
              "      <td>mecÃ¡nica</td>\n",
              "      <td>2025-06-22</td>\n",
              "      <td>0</td>\n",
              "    </tr>\n",
              "    <tr>\n",
              "      <th>3</th>\n",
              "      <td>2025-01-04</td>\n",
              "      <td>MTR_001</td>\n",
              "      <td>859</td>\n",
              "      <td>728</td>\n",
              "      <td>259</td>\n",
              "      <td>NaN</td>\n",
              "      <td>NaN</td>\n",
              "      <td>mecÃ¡nica</td>\n",
              "      <td>2025-06-22</td>\n",
              "      <td>0</td>\n",
              "    </tr>\n",
              "    <tr>\n",
              "      <th>4</th>\n",
              "      <td>2025-01-05</td>\n",
              "      <td>MTR_001</td>\n",
              "      <td>954</td>\n",
              "      <td>7575</td>\n",
              "      <td>204</td>\n",
              "      <td>NaN</td>\n",
              "      <td>NaN</td>\n",
              "      <td>mecÃ¡nica</td>\n",
              "      <td>2025-06-22</td>\n",
              "      <td>0</td>\n",
              "    </tr>\n",
              "  </tbody>\n",
              "</table>\n",
              "</div>\n",
              "    <div class=\"colab-df-buttons\">\n",
              "\n",
              "  <div class=\"colab-df-container\">\n",
              "    <button class=\"colab-df-convert\" onclick=\"convertToInteractive('df-98d3a6e2-d605-45e0-ba58-56d1216bc74c')\"\n",
              "            title=\"Convert this dataframe to an interactive table.\"\n",
              "            style=\"display:none;\">\n",
              "\n",
              "  <svg xmlns=\"http://www.w3.org/2000/svg\" height=\"24px\" viewBox=\"0 -960 960 960\">\n",
              "    <path d=\"M120-120v-720h720v720H120Zm60-500h600v-160H180v160Zm220 220h160v-160H400v160Zm0 220h160v-160H400v160ZM180-400h160v-160H180v160Zm440 0h160v-160H620v160ZM180-180h160v-160H180v160Zm440 0h160v-160H620v160Z\"/>\n",
              "  </svg>\n",
              "    </button>\n",
              "\n",
              "  <style>\n",
              "    .colab-df-container {\n",
              "      display:flex;\n",
              "      gap: 12px;\n",
              "    }\n",
              "\n",
              "    .colab-df-convert {\n",
              "      background-color: #E8F0FE;\n",
              "      border: none;\n",
              "      border-radius: 50%;\n",
              "      cursor: pointer;\n",
              "      display: none;\n",
              "      fill: #1967D2;\n",
              "      height: 32px;\n",
              "      padding: 0 0 0 0;\n",
              "      width: 32px;\n",
              "    }\n",
              "\n",
              "    .colab-df-convert:hover {\n",
              "      background-color: #E2EBFA;\n",
              "      box-shadow: 0px 1px 2px rgba(60, 64, 67, 0.3), 0px 1px 3px 1px rgba(60, 64, 67, 0.15);\n",
              "      fill: #174EA6;\n",
              "    }\n",
              "\n",
              "    .colab-df-buttons div {\n",
              "      margin-bottom: 4px;\n",
              "    }\n",
              "\n",
              "    [theme=dark] .colab-df-convert {\n",
              "      background-color: #3B4455;\n",
              "      fill: #D2E3FC;\n",
              "    }\n",
              "\n",
              "    [theme=dark] .colab-df-convert:hover {\n",
              "      background-color: #434B5C;\n",
              "      box-shadow: 0px 1px 3px 1px rgba(0, 0, 0, 0.15);\n",
              "      filter: drop-shadow(0px 1px 2px rgba(0, 0, 0, 0.3));\n",
              "      fill: #FFFFFF;\n",
              "    }\n",
              "  </style>\n",
              "\n",
              "    <script>\n",
              "      const buttonEl =\n",
              "        document.querySelector('#df-98d3a6e2-d605-45e0-ba58-56d1216bc74c button.colab-df-convert');\n",
              "      buttonEl.style.display =\n",
              "        google.colab.kernel.accessAllowed ? 'block' : 'none';\n",
              "\n",
              "      async function convertToInteractive(key) {\n",
              "        const element = document.querySelector('#df-98d3a6e2-d605-45e0-ba58-56d1216bc74c');\n",
              "        const dataTable =\n",
              "          await google.colab.kernel.invokeFunction('convertToInteractive',\n",
              "                                                    [key], {});\n",
              "        if (!dataTable) return;\n",
              "\n",
              "        const docLinkHtml = 'Like what you see? Visit the ' +\n",
              "          '<a target=\"_blank\" href=https://colab.research.google.com/notebooks/data_table.ipynb>data table notebook</a>'\n",
              "          + ' to learn more about interactive tables.';\n",
              "        element.innerHTML = '';\n",
              "        dataTable['output_type'] = 'display_data';\n",
              "        await google.colab.output.renderOutput(dataTable, element);\n",
              "        const docLink = document.createElement('div');\n",
              "        docLink.innerHTML = docLinkHtml;\n",
              "        element.appendChild(docLink);\n",
              "      }\n",
              "    </script>\n",
              "  </div>\n",
              "\n",
              "\n",
              "    <div id=\"df-92ba220a-d8a8-4591-8b59-ad3bdb7a7b4d\">\n",
              "      <button class=\"colab-df-quickchart\" onclick=\"quickchart('df-92ba220a-d8a8-4591-8b59-ad3bdb7a7b4d')\"\n",
              "                title=\"Suggest charts\"\n",
              "                style=\"display:none;\">\n",
              "\n",
              "<svg xmlns=\"http://www.w3.org/2000/svg\" height=\"24px\"viewBox=\"0 0 24 24\"\n",
              "     width=\"24px\">\n",
              "    <g>\n",
              "        <path d=\"M19 3H5c-1.1 0-2 .9-2 2v14c0 1.1.9 2 2 2h14c1.1 0 2-.9 2-2V5c0-1.1-.9-2-2-2zM9 17H7v-7h2v7zm4 0h-2V7h2v10zm4 0h-2v-4h2v4z\"/>\n",
              "    </g>\n",
              "</svg>\n",
              "      </button>\n",
              "\n",
              "<style>\n",
              "  .colab-df-quickchart {\n",
              "      --bg-color: #E8F0FE;\n",
              "      --fill-color: #1967D2;\n",
              "      --hover-bg-color: #E2EBFA;\n",
              "      --hover-fill-color: #174EA6;\n",
              "      --disabled-fill-color: #AAA;\n",
              "      --disabled-bg-color: #DDD;\n",
              "  }\n",
              "\n",
              "  [theme=dark] .colab-df-quickchart {\n",
              "      --bg-color: #3B4455;\n",
              "      --fill-color: #D2E3FC;\n",
              "      --hover-bg-color: #434B5C;\n",
              "      --hover-fill-color: #FFFFFF;\n",
              "      --disabled-bg-color: #3B4455;\n",
              "      --disabled-fill-color: #666;\n",
              "  }\n",
              "\n",
              "  .colab-df-quickchart {\n",
              "    background-color: var(--bg-color);\n",
              "    border: none;\n",
              "    border-radius: 50%;\n",
              "    cursor: pointer;\n",
              "    display: none;\n",
              "    fill: var(--fill-color);\n",
              "    height: 32px;\n",
              "    padding: 0;\n",
              "    width: 32px;\n",
              "  }\n",
              "\n",
              "  .colab-df-quickchart:hover {\n",
              "    background-color: var(--hover-bg-color);\n",
              "    box-shadow: 0 1px 2px rgba(60, 64, 67, 0.3), 0 1px 3px 1px rgba(60, 64, 67, 0.15);\n",
              "    fill: var(--button-hover-fill-color);\n",
              "  }\n",
              "\n",
              "  .colab-df-quickchart-complete:disabled,\n",
              "  .colab-df-quickchart-complete:disabled:hover {\n",
              "    background-color: var(--disabled-bg-color);\n",
              "    fill: var(--disabled-fill-color);\n",
              "    box-shadow: none;\n",
              "  }\n",
              "\n",
              "  .colab-df-spinner {\n",
              "    border: 2px solid var(--fill-color);\n",
              "    border-color: transparent;\n",
              "    border-bottom-color: var(--fill-color);\n",
              "    animation:\n",
              "      spin 1s steps(1) infinite;\n",
              "  }\n",
              "\n",
              "  @keyframes spin {\n",
              "    0% {\n",
              "      border-color: transparent;\n",
              "      border-bottom-color: var(--fill-color);\n",
              "      border-left-color: var(--fill-color);\n",
              "    }\n",
              "    20% {\n",
              "      border-color: transparent;\n",
              "      border-left-color: var(--fill-color);\n",
              "      border-top-color: var(--fill-color);\n",
              "    }\n",
              "    30% {\n",
              "      border-color: transparent;\n",
              "      border-left-color: var(--fill-color);\n",
              "      border-top-color: var(--fill-color);\n",
              "      border-right-color: var(--fill-color);\n",
              "    }\n",
              "    40% {\n",
              "      border-color: transparent;\n",
              "      border-right-color: var(--fill-color);\n",
              "      border-top-color: var(--fill-color);\n",
              "    }\n",
              "    60% {\n",
              "      border-color: transparent;\n",
              "      border-right-color: var(--fill-color);\n",
              "    }\n",
              "    80% {\n",
              "      border-color: transparent;\n",
              "      border-right-color: var(--fill-color);\n",
              "      border-bottom-color: var(--fill-color);\n",
              "    }\n",
              "    90% {\n",
              "      border-color: transparent;\n",
              "      border-bottom-color: var(--fill-color);\n",
              "    }\n",
              "  }\n",
              "</style>\n",
              "\n",
              "      <script>\n",
              "        async function quickchart(key) {\n",
              "          const quickchartButtonEl =\n",
              "            document.querySelector('#' + key + ' button');\n",
              "          quickchartButtonEl.disabled = true;  // To prevent multiple clicks.\n",
              "          quickchartButtonEl.classList.add('colab-df-spinner');\n",
              "          try {\n",
              "            const charts = await google.colab.kernel.invokeFunction(\n",
              "                'suggestCharts', [key], {});\n",
              "          } catch (error) {\n",
              "            console.error('Error during call to suggestCharts:', error);\n",
              "          }\n",
              "          quickchartButtonEl.classList.remove('colab-df-spinner');\n",
              "          quickchartButtonEl.classList.add('colab-df-quickchart-complete');\n",
              "        }\n",
              "        (() => {\n",
              "          let quickchartButtonEl =\n",
              "            document.querySelector('#df-92ba220a-d8a8-4591-8b59-ad3bdb7a7b4d button');\n",
              "          quickchartButtonEl.style.display =\n",
              "            google.colab.kernel.accessAllowed ? 'block' : 'none';\n",
              "        })();\n",
              "      </script>\n",
              "    </div>\n",
              "\n",
              "    </div>\n",
              "  </div>\n"
            ],
            "application/vnd.google.colaboratory.intrinsic+json": {
              "type": "dataframe",
              "variable_name": "df",
              "summary": "{\n  \"name\": \"df\",\n  \"rows\": 1800,\n  \"fields\": [\n    {\n      \"column\": \"fecha\",\n      \"properties\": {\n        \"dtype\": \"object\",\n        \"num_unique_values\": 180,\n        \"samples\": [\n          \"2025-01-20\",\n          \"2025-02-12\",\n          \"2025-06-03\"\n        ],\n        \"semantic_type\": \"\",\n        \"description\": \"\"\n      }\n    },\n    {\n      \"column\": \"motor_id\",\n      \"properties\": {\n        \"dtype\": \"category\",\n        \"num_unique_values\": 10,\n        \"samples\": [\n          \"MTR_009\",\n          \"MTR_002\",\n          \"MTR_006\"\n        ],\n        \"semantic_type\": \"\",\n        \"description\": \"\"\n      }\n    },\n    {\n      \"column\": \"corriente\",\n      \"properties\": {\n        \"dtype\": \"number\",\n        \"std\": 547,\n        \"min\": 72,\n        \"max\": 4704,\n        \"num_unique_values\": 690,\n        \"samples\": [\n          883,\n          1192,\n          992\n        ],\n        \"semantic_type\": \"\",\n        \"description\": \"\"\n      }\n    },\n    {\n      \"column\": \"temperatura\",\n      \"properties\": {\n        \"dtype\": \"number\",\n        \"std\": 2223,\n        \"min\": 670,\n        \"max\": 12582,\n        \"num_unique_values\": 1106,\n        \"samples\": [\n          7588,\n          7085,\n          7472\n        ],\n        \"semantic_type\": \"\",\n        \"description\": \"\"\n      }\n    },\n    {\n      \"column\": \"vibracion\",\n      \"properties\": {\n        \"dtype\": \"number\",\n        \"std\": 205,\n        \"min\": 14,\n        \"max\": 1622,\n        \"num_unique_values\": 441,\n        \"samples\": [\n          275,\n          976,\n          221\n        ],\n        \"semantic_type\": \"\",\n        \"description\": \"\"\n      }\n    },\n    {\n      \"column\": \"tipo_mtto\",\n      \"properties\": {\n        \"dtype\": \"category\",\n        \"num_unique_values\": 4,\n        \"samples\": [\n          \"inspecci\\u00c3\\u00b3n\",\n          \"lubricaci\\u00c3\\u00b3n\",\n          \"reemplazo\"\n        ],\n        \"semantic_type\": \"\",\n        \"description\": \"\"\n      }\n    },\n    {\n      \"column\": \"fecha_mtto\",\n      \"properties\": {\n        \"dtype\": \"date\",\n        \"min\": \"2025-01-14 00:00:00\",\n        \"max\": \"2025-06-15 00:00:00\",\n        \"num_unique_values\": 29,\n        \"samples\": [\n          \"2025-05-18\",\n          \"2025-06-15\",\n          \"2025-05-12\"\n        ],\n        \"semantic_type\": \"\",\n        \"description\": \"\"\n      }\n    },\n    {\n      \"column\": \"tipo_falla\",\n      \"properties\": {\n        \"dtype\": \"category\",\n        \"num_unique_values\": 2,\n        \"samples\": [\n          \"sobrecalentamiento\",\n          \"mec\\u00c3\\u00a1nica\"\n        ],\n        \"semantic_type\": \"\",\n        \"description\": \"\"\n      }\n    },\n    {\n      \"column\": \"fecha_falla\",\n      \"properties\": {\n        \"dtype\": \"object\",\n        \"num_unique_values\": 6,\n        \"samples\": [\n          \"2025-06-22\",\n          \"2025-06-11\"\n        ],\n        \"semantic_type\": \"\",\n        \"description\": \"\"\n      }\n    },\n    {\n      \"column\": \"falla_en_30_dias\",\n      \"properties\": {\n        \"dtype\": \"number\",\n        \"std\": 0,\n        \"min\": 0,\n        \"max\": 1,\n        \"num_unique_values\": 2,\n        \"samples\": [\n          1,\n          0\n        ],\n        \"semantic_type\": \"\",\n        \"description\": \"\"\n      }\n    }\n  ]\n}"
            }
          },
          "metadata": {},
          "execution_count": 34
        }
      ]
    },
    {
      "cell_type": "markdown",
      "source": [
        "## 🧾 Descripción del Dataset\n",
        "\n",
        "El dataset `sensores_maestra.csv` fue generado a partir de múltiples fuentes simuladas (sensores, mantenimiento y fallas) y unificado mediante SQL Server. Cada fila representa una observación diaria de un motor industrial.\n",
        "\n",
        "### 📄 Columnas principales:\n",
        "\n",
        "- `fecha`: Fecha del registro (formato YYYY-MM-DD)\n",
        "- `motor_id`: Identificador del motor (ejemplo: MTR_001)\n",
        "- `corriente`: Corriente eléctrica en amperios (A) medida ese día\n",
        "- `temperatura`: Temperatura del motor en grados Celsius (°C)\n",
        "- `vibracion`: Nivel de vibración en mm/s (valor RMS)\n",
        "- `tipo_mtto`: Tipo de mantenimiento realizado ese día, si corresponde (lubricación, ajuste, etc.)\n",
        "- `fecha_mtto`: Fecha en la que se registró ese mantenimiento (puede ser NaN)\n",
        "- `tipo_falla`: Clasificación de la falla (eléctrica, mecánica, sobrecalentamiento), si ocurrió\n",
        "- `fecha_falla`: Fecha en la que ocurrió la falla (puede ser NaN)\n",
        "- `falla_en_30_dias`: Variable objetivo binaria:\n",
        "  - `1` → El motor fallará dentro de los 30 días posteriores a la fecha del registro\n",
        "  - `0` → No se espera que falle en ese rango de tiempo\n",
        "\n",
        "Este dataset permite entrenar un modelo de clasificación supervisada para prevenir fallas y optimizar el mantenimiento industrial.\n"
      ],
      "metadata": {
        "id": "EUocMEtHcSvj"
      }
    },
    {
      "cell_type": "markdown",
      "source": [
        "## 🔍 Análisis exploratorio (EDA)\n",
        "\n",
        "Analizamos la estructura del dataset, verificamos valores nulos y observamos la distribución de la variable objetivo `falla_en_30_dias`.\n"
      ],
      "metadata": {
        "id": "RXxy2yxHcfU0"
      }
    },
    {
      "cell_type": "code",
      "source": [
        "# Info general del DataFrame\n",
        "df.info()\n"
      ],
      "metadata": {
        "colab": {
          "base_uri": "https://localhost:8080/"
        },
        "id": "I07d0xGxchbO",
        "outputId": "84e6b395-3d3e-4c90-a5ca-cc9b19e0a4e0"
      },
      "execution_count": 35,
      "outputs": [
        {
          "output_type": "stream",
          "name": "stdout",
          "text": [
            "<class 'pandas.core.frame.DataFrame'>\n",
            "RangeIndex: 1800 entries, 0 to 1799\n",
            "Data columns (total 10 columns):\n",
            " #   Column            Non-Null Count  Dtype \n",
            "---  ------            --------------  ----- \n",
            " 0   fecha             1800 non-null   object\n",
            " 1   motor_id          1800 non-null   object\n",
            " 2   corriente         1800 non-null   int64 \n",
            " 3   temperatura       1800 non-null   int64 \n",
            " 4   vibracion         1800 non-null   int64 \n",
            " 5   tipo_mtto         30 non-null     object\n",
            " 6   fecha_mtto        30 non-null     object\n",
            " 7   tipo_falla        1080 non-null   object\n",
            " 8   fecha_falla       1080 non-null   object\n",
            " 9   falla_en_30_dias  1800 non-null   int64 \n",
            "dtypes: int64(4), object(6)\n",
            "memory usage: 140.8+ KB\n"
          ]
        }
      ]
    },
    {
      "cell_type": "code",
      "source": [
        "# Cantidad de valores nulos por columna\n",
        "df.isnull().sum()"
      ],
      "metadata": {
        "colab": {
          "base_uri": "https://localhost:8080/",
          "height": 398
        },
        "id": "kHgOm0uHclZN",
        "outputId": "407ac36f-1016-4144-dd4e-6c41c955a7a0"
      },
      "execution_count": 42,
      "outputs": [
        {
          "output_type": "execute_result",
          "data": {
            "text/plain": [
              "fecha                  0\n",
              "motor_id               0\n",
              "corriente              0\n",
              "temperatura            0\n",
              "vibracion              0\n",
              "tipo_mtto           1770\n",
              "fecha_mtto          1770\n",
              "tipo_falla           720\n",
              "fecha_falla          720\n",
              "falla_en_30_dias       0\n",
              "dtype: int64"
            ],
            "text/html": [
              "<div>\n",
              "<style scoped>\n",
              "    .dataframe tbody tr th:only-of-type {\n",
              "        vertical-align: middle;\n",
              "    }\n",
              "\n",
              "    .dataframe tbody tr th {\n",
              "        vertical-align: top;\n",
              "    }\n",
              "\n",
              "    .dataframe thead th {\n",
              "        text-align: right;\n",
              "    }\n",
              "</style>\n",
              "<table border=\"1\" class=\"dataframe\">\n",
              "  <thead>\n",
              "    <tr style=\"text-align: right;\">\n",
              "      <th></th>\n",
              "      <th>0</th>\n",
              "    </tr>\n",
              "  </thead>\n",
              "  <tbody>\n",
              "    <tr>\n",
              "      <th>fecha</th>\n",
              "      <td>0</td>\n",
              "    </tr>\n",
              "    <tr>\n",
              "      <th>motor_id</th>\n",
              "      <td>0</td>\n",
              "    </tr>\n",
              "    <tr>\n",
              "      <th>corriente</th>\n",
              "      <td>0</td>\n",
              "    </tr>\n",
              "    <tr>\n",
              "      <th>temperatura</th>\n",
              "      <td>0</td>\n",
              "    </tr>\n",
              "    <tr>\n",
              "      <th>vibracion</th>\n",
              "      <td>0</td>\n",
              "    </tr>\n",
              "    <tr>\n",
              "      <th>tipo_mtto</th>\n",
              "      <td>1770</td>\n",
              "    </tr>\n",
              "    <tr>\n",
              "      <th>fecha_mtto</th>\n",
              "      <td>1770</td>\n",
              "    </tr>\n",
              "    <tr>\n",
              "      <th>tipo_falla</th>\n",
              "      <td>720</td>\n",
              "    </tr>\n",
              "    <tr>\n",
              "      <th>fecha_falla</th>\n",
              "      <td>720</td>\n",
              "    </tr>\n",
              "    <tr>\n",
              "      <th>falla_en_30_dias</th>\n",
              "      <td>0</td>\n",
              "    </tr>\n",
              "  </tbody>\n",
              "</table>\n",
              "</div><br><label><b>dtype:</b> int64</label>"
            ]
          },
          "metadata": {},
          "execution_count": 42
        }
      ]
    },
    {
      "cell_type": "code",
      "source": [
        "# Estadísticas descriptivas\n",
        "df.describe().T.round(2)"
      ],
      "metadata": {
        "colab": {
          "base_uri": "https://localhost:8080/",
          "height": 175
        },
        "id": "vBtN8PAicnvd",
        "outputId": "78504e3b-363b-4d65-d33f-be5902b940bf"
      },
      "execution_count": 43,
      "outputs": [
        {
          "output_type": "execute_result",
          "data": {
            "text/plain": [
              "                   count     mean      std    min     25%     50%      75%  \\\n",
              "corriente         1800.0  1062.51   547.27   72.0   913.0  1014.0  1111.00   \n",
              "temperatura       1800.0  7086.33  2223.39  670.0  7258.0  7543.0  7843.25   \n",
              "vibracion         1800.0   291.63   205.11   14.0   215.0   253.0   297.00   \n",
              "falla_en_30_dias  1800.0     0.10     0.30    0.0     0.0     0.0     0.00   \n",
              "\n",
              "                      max  \n",
              "corriente          4704.0  \n",
              "temperatura       12582.0  \n",
              "vibracion          1622.0  \n",
              "falla_en_30_dias      1.0  "
            ],
            "text/html": [
              "\n",
              "  <div id=\"df-1c300a38-6b59-4b41-b209-b0fb5174ba76\" class=\"colab-df-container\">\n",
              "    <div>\n",
              "<style scoped>\n",
              "    .dataframe tbody tr th:only-of-type {\n",
              "        vertical-align: middle;\n",
              "    }\n",
              "\n",
              "    .dataframe tbody tr th {\n",
              "        vertical-align: top;\n",
              "    }\n",
              "\n",
              "    .dataframe thead th {\n",
              "        text-align: right;\n",
              "    }\n",
              "</style>\n",
              "<table border=\"1\" class=\"dataframe\">\n",
              "  <thead>\n",
              "    <tr style=\"text-align: right;\">\n",
              "      <th></th>\n",
              "      <th>count</th>\n",
              "      <th>mean</th>\n",
              "      <th>std</th>\n",
              "      <th>min</th>\n",
              "      <th>25%</th>\n",
              "      <th>50%</th>\n",
              "      <th>75%</th>\n",
              "      <th>max</th>\n",
              "    </tr>\n",
              "  </thead>\n",
              "  <tbody>\n",
              "    <tr>\n",
              "      <th>corriente</th>\n",
              "      <td>1800.0</td>\n",
              "      <td>1062.51</td>\n",
              "      <td>547.27</td>\n",
              "      <td>72.0</td>\n",
              "      <td>913.0</td>\n",
              "      <td>1014.0</td>\n",
              "      <td>1111.00</td>\n",
              "      <td>4704.0</td>\n",
              "    </tr>\n",
              "    <tr>\n",
              "      <th>temperatura</th>\n",
              "      <td>1800.0</td>\n",
              "      <td>7086.33</td>\n",
              "      <td>2223.39</td>\n",
              "      <td>670.0</td>\n",
              "      <td>7258.0</td>\n",
              "      <td>7543.0</td>\n",
              "      <td>7843.25</td>\n",
              "      <td>12582.0</td>\n",
              "    </tr>\n",
              "    <tr>\n",
              "      <th>vibracion</th>\n",
              "      <td>1800.0</td>\n",
              "      <td>291.63</td>\n",
              "      <td>205.11</td>\n",
              "      <td>14.0</td>\n",
              "      <td>215.0</td>\n",
              "      <td>253.0</td>\n",
              "      <td>297.00</td>\n",
              "      <td>1622.0</td>\n",
              "    </tr>\n",
              "    <tr>\n",
              "      <th>falla_en_30_dias</th>\n",
              "      <td>1800.0</td>\n",
              "      <td>0.10</td>\n",
              "      <td>0.30</td>\n",
              "      <td>0.0</td>\n",
              "      <td>0.0</td>\n",
              "      <td>0.0</td>\n",
              "      <td>0.00</td>\n",
              "      <td>1.0</td>\n",
              "    </tr>\n",
              "  </tbody>\n",
              "</table>\n",
              "</div>\n",
              "    <div class=\"colab-df-buttons\">\n",
              "\n",
              "  <div class=\"colab-df-container\">\n",
              "    <button class=\"colab-df-convert\" onclick=\"convertToInteractive('df-1c300a38-6b59-4b41-b209-b0fb5174ba76')\"\n",
              "            title=\"Convert this dataframe to an interactive table.\"\n",
              "            style=\"display:none;\">\n",
              "\n",
              "  <svg xmlns=\"http://www.w3.org/2000/svg\" height=\"24px\" viewBox=\"0 -960 960 960\">\n",
              "    <path d=\"M120-120v-720h720v720H120Zm60-500h600v-160H180v160Zm220 220h160v-160H400v160Zm0 220h160v-160H400v160ZM180-400h160v-160H180v160Zm440 0h160v-160H620v160ZM180-180h160v-160H180v160Zm440 0h160v-160H620v160Z\"/>\n",
              "  </svg>\n",
              "    </button>\n",
              "\n",
              "  <style>\n",
              "    .colab-df-container {\n",
              "      display:flex;\n",
              "      gap: 12px;\n",
              "    }\n",
              "\n",
              "    .colab-df-convert {\n",
              "      background-color: #E8F0FE;\n",
              "      border: none;\n",
              "      border-radius: 50%;\n",
              "      cursor: pointer;\n",
              "      display: none;\n",
              "      fill: #1967D2;\n",
              "      height: 32px;\n",
              "      padding: 0 0 0 0;\n",
              "      width: 32px;\n",
              "    }\n",
              "\n",
              "    .colab-df-convert:hover {\n",
              "      background-color: #E2EBFA;\n",
              "      box-shadow: 0px 1px 2px rgba(60, 64, 67, 0.3), 0px 1px 3px 1px rgba(60, 64, 67, 0.15);\n",
              "      fill: #174EA6;\n",
              "    }\n",
              "\n",
              "    .colab-df-buttons div {\n",
              "      margin-bottom: 4px;\n",
              "    }\n",
              "\n",
              "    [theme=dark] .colab-df-convert {\n",
              "      background-color: #3B4455;\n",
              "      fill: #D2E3FC;\n",
              "    }\n",
              "\n",
              "    [theme=dark] .colab-df-convert:hover {\n",
              "      background-color: #434B5C;\n",
              "      box-shadow: 0px 1px 3px 1px rgba(0, 0, 0, 0.15);\n",
              "      filter: drop-shadow(0px 1px 2px rgba(0, 0, 0, 0.3));\n",
              "      fill: #FFFFFF;\n",
              "    }\n",
              "  </style>\n",
              "\n",
              "    <script>\n",
              "      const buttonEl =\n",
              "        document.querySelector('#df-1c300a38-6b59-4b41-b209-b0fb5174ba76 button.colab-df-convert');\n",
              "      buttonEl.style.display =\n",
              "        google.colab.kernel.accessAllowed ? 'block' : 'none';\n",
              "\n",
              "      async function convertToInteractive(key) {\n",
              "        const element = document.querySelector('#df-1c300a38-6b59-4b41-b209-b0fb5174ba76');\n",
              "        const dataTable =\n",
              "          await google.colab.kernel.invokeFunction('convertToInteractive',\n",
              "                                                    [key], {});\n",
              "        if (!dataTable) return;\n",
              "\n",
              "        const docLinkHtml = 'Like what you see? Visit the ' +\n",
              "          '<a target=\"_blank\" href=https://colab.research.google.com/notebooks/data_table.ipynb>data table notebook</a>'\n",
              "          + ' to learn more about interactive tables.';\n",
              "        element.innerHTML = '';\n",
              "        dataTable['output_type'] = 'display_data';\n",
              "        await google.colab.output.renderOutput(dataTable, element);\n",
              "        const docLink = document.createElement('div');\n",
              "        docLink.innerHTML = docLinkHtml;\n",
              "        element.appendChild(docLink);\n",
              "      }\n",
              "    </script>\n",
              "  </div>\n",
              "\n",
              "\n",
              "    <div id=\"df-bc4c60f5-c5a2-46fc-be44-f111bd745416\">\n",
              "      <button class=\"colab-df-quickchart\" onclick=\"quickchart('df-bc4c60f5-c5a2-46fc-be44-f111bd745416')\"\n",
              "                title=\"Suggest charts\"\n",
              "                style=\"display:none;\">\n",
              "\n",
              "<svg xmlns=\"http://www.w3.org/2000/svg\" height=\"24px\"viewBox=\"0 0 24 24\"\n",
              "     width=\"24px\">\n",
              "    <g>\n",
              "        <path d=\"M19 3H5c-1.1 0-2 .9-2 2v14c0 1.1.9 2 2 2h14c1.1 0 2-.9 2-2V5c0-1.1-.9-2-2-2zM9 17H7v-7h2v7zm4 0h-2V7h2v10zm4 0h-2v-4h2v4z\"/>\n",
              "    </g>\n",
              "</svg>\n",
              "      </button>\n",
              "\n",
              "<style>\n",
              "  .colab-df-quickchart {\n",
              "      --bg-color: #E8F0FE;\n",
              "      --fill-color: #1967D2;\n",
              "      --hover-bg-color: #E2EBFA;\n",
              "      --hover-fill-color: #174EA6;\n",
              "      --disabled-fill-color: #AAA;\n",
              "      --disabled-bg-color: #DDD;\n",
              "  }\n",
              "\n",
              "  [theme=dark] .colab-df-quickchart {\n",
              "      --bg-color: #3B4455;\n",
              "      --fill-color: #D2E3FC;\n",
              "      --hover-bg-color: #434B5C;\n",
              "      --hover-fill-color: #FFFFFF;\n",
              "      --disabled-bg-color: #3B4455;\n",
              "      --disabled-fill-color: #666;\n",
              "  }\n",
              "\n",
              "  .colab-df-quickchart {\n",
              "    background-color: var(--bg-color);\n",
              "    border: none;\n",
              "    border-radius: 50%;\n",
              "    cursor: pointer;\n",
              "    display: none;\n",
              "    fill: var(--fill-color);\n",
              "    height: 32px;\n",
              "    padding: 0;\n",
              "    width: 32px;\n",
              "  }\n",
              "\n",
              "  .colab-df-quickchart:hover {\n",
              "    background-color: var(--hover-bg-color);\n",
              "    box-shadow: 0 1px 2px rgba(60, 64, 67, 0.3), 0 1px 3px 1px rgba(60, 64, 67, 0.15);\n",
              "    fill: var(--button-hover-fill-color);\n",
              "  }\n",
              "\n",
              "  .colab-df-quickchart-complete:disabled,\n",
              "  .colab-df-quickchart-complete:disabled:hover {\n",
              "    background-color: var(--disabled-bg-color);\n",
              "    fill: var(--disabled-fill-color);\n",
              "    box-shadow: none;\n",
              "  }\n",
              "\n",
              "  .colab-df-spinner {\n",
              "    border: 2px solid var(--fill-color);\n",
              "    border-color: transparent;\n",
              "    border-bottom-color: var(--fill-color);\n",
              "    animation:\n",
              "      spin 1s steps(1) infinite;\n",
              "  }\n",
              "\n",
              "  @keyframes spin {\n",
              "    0% {\n",
              "      border-color: transparent;\n",
              "      border-bottom-color: var(--fill-color);\n",
              "      border-left-color: var(--fill-color);\n",
              "    }\n",
              "    20% {\n",
              "      border-color: transparent;\n",
              "      border-left-color: var(--fill-color);\n",
              "      border-top-color: var(--fill-color);\n",
              "    }\n",
              "    30% {\n",
              "      border-color: transparent;\n",
              "      border-left-color: var(--fill-color);\n",
              "      border-top-color: var(--fill-color);\n",
              "      border-right-color: var(--fill-color);\n",
              "    }\n",
              "    40% {\n",
              "      border-color: transparent;\n",
              "      border-right-color: var(--fill-color);\n",
              "      border-top-color: var(--fill-color);\n",
              "    }\n",
              "    60% {\n",
              "      border-color: transparent;\n",
              "      border-right-color: var(--fill-color);\n",
              "    }\n",
              "    80% {\n",
              "      border-color: transparent;\n",
              "      border-right-color: var(--fill-color);\n",
              "      border-bottom-color: var(--fill-color);\n",
              "    }\n",
              "    90% {\n",
              "      border-color: transparent;\n",
              "      border-bottom-color: var(--fill-color);\n",
              "    }\n",
              "  }\n",
              "</style>\n",
              "\n",
              "      <script>\n",
              "        async function quickchart(key) {\n",
              "          const quickchartButtonEl =\n",
              "            document.querySelector('#' + key + ' button');\n",
              "          quickchartButtonEl.disabled = true;  // To prevent multiple clicks.\n",
              "          quickchartButtonEl.classList.add('colab-df-spinner');\n",
              "          try {\n",
              "            const charts = await google.colab.kernel.invokeFunction(\n",
              "                'suggestCharts', [key], {});\n",
              "          } catch (error) {\n",
              "            console.error('Error during call to suggestCharts:', error);\n",
              "          }\n",
              "          quickchartButtonEl.classList.remove('colab-df-spinner');\n",
              "          quickchartButtonEl.classList.add('colab-df-quickchart-complete');\n",
              "        }\n",
              "        (() => {\n",
              "          let quickchartButtonEl =\n",
              "            document.querySelector('#df-bc4c60f5-c5a2-46fc-be44-f111bd745416 button');\n",
              "          quickchartButtonEl.style.display =\n",
              "            google.colab.kernel.accessAllowed ? 'block' : 'none';\n",
              "        })();\n",
              "      </script>\n",
              "    </div>\n",
              "\n",
              "    </div>\n",
              "  </div>\n"
            ],
            "application/vnd.google.colaboratory.intrinsic+json": {
              "type": "dataframe",
              "summary": "{\n  \"name\": \"df\",\n  \"rows\": 4,\n  \"fields\": [\n    {\n      \"column\": \"count\",\n      \"properties\": {\n        \"dtype\": \"number\",\n        \"std\": 0.0,\n        \"min\": 1800.0,\n        \"max\": 1800.0,\n        \"num_unique_values\": 1,\n        \"samples\": [\n          1800.0\n        ],\n        \"semantic_type\": \"\",\n        \"description\": \"\"\n      }\n    },\n    {\n      \"column\": \"mean\",\n      \"properties\": {\n        \"dtype\": \"number\",\n        \"std\": 3347.5982910476278,\n        \"min\": 0.1,\n        \"max\": 7086.33,\n        \"num_unique_values\": 4,\n        \"samples\": [\n          7086.33\n        ],\n        \"semantic_type\": \"\",\n        \"description\": \"\"\n      }\n    },\n    {\n      \"column\": \"std\",\n      \"properties\": {\n        \"dtype\": \"number\",\n        \"std\": 1011.7294740319668,\n        \"min\": 0.3,\n        \"max\": 2223.39,\n        \"num_unique_values\": 4,\n        \"samples\": [\n          2223.39\n        ],\n        \"semantic_type\": \"\",\n        \"description\": \"\"\n      }\n    },\n    {\n      \"column\": \"min\",\n      \"properties\": {\n        \"dtype\": \"number\",\n        \"std\": 322.17800462891114,\n        \"min\": 0.0,\n        \"max\": 670.0,\n        \"num_unique_values\": 4,\n        \"samples\": [\n          670.0\n        ],\n        \"semantic_type\": \"\",\n        \"description\": \"\"\n      }\n    },\n    {\n      \"column\": \"25%\",\n      \"properties\": {\n        \"dtype\": \"number\",\n        \"std\": 3463.0000962556537,\n        \"min\": 0.0,\n        \"max\": 7258.0,\n        \"num_unique_values\": 4,\n        \"samples\": [\n          7258.0\n        ],\n        \"semantic_type\": \"\",\n        \"description\": \"\"\n      }\n    },\n    {\n      \"column\": \"50%\",\n      \"properties\": {\n        \"dtype\": \"number\",\n        \"std\": 3586.317935338881,\n        \"min\": 0.0,\n        \"max\": 7543.0,\n        \"num_unique_values\": 4,\n        \"samples\": [\n          7543.0\n        ],\n        \"semantic_type\": \"\",\n        \"description\": \"\"\n      }\n    },\n    {\n      \"column\": \"75%\",\n      \"properties\": {\n        \"dtype\": \"number\",\n        \"std\": 3716.7501001939404,\n        \"min\": 0.0,\n        \"max\": 7843.25,\n        \"num_unique_values\": 4,\n        \"samples\": [\n          7843.25\n        ],\n        \"semantic_type\": \"\",\n        \"description\": \"\"\n      }\n    },\n    {\n      \"column\": \"max\",\n      \"properties\": {\n        \"dtype\": \"number\",\n        \"std\": 5588.012608850007,\n        \"min\": 1.0,\n        \"max\": 12582.0,\n        \"num_unique_values\": 4,\n        \"samples\": [\n          12582.0\n        ],\n        \"semantic_type\": \"\",\n        \"description\": \"\"\n      }\n    }\n  ]\n}"
            }
          },
          "metadata": {},
          "execution_count": 43
        }
      ]
    },
    {
      "cell_type": "code",
      "source": [
        "# Visualización de la variable objetivo\n",
        "sns.countplot(x='falla_en_30_dias', data=df)\n",
        "plt.title(\"Distribución de fallas en los próximos 30 días\")\n",
        "plt.xlabel(\"¿Falla en 30 días?\")\n",
        "plt.ylabel(\"Cantidad de registros\")\n",
        "plt.show()"
      ],
      "metadata": {
        "colab": {
          "base_uri": "https://localhost:8080/",
          "height": 473
        },
        "id": "XQleSWRMcwq1",
        "outputId": "4996c137-8e95-45b8-c89d-35dd6b0f0b6b"
      },
      "execution_count": 44,
      "outputs": [
        {
          "output_type": "display_data",
          "data": {
            "text/plain": [
              "<Figure size 640x480 with 1 Axes>"
            ],
            "image/png": "[encoded data removed]"
          },
          "metadata": {}
        }
      ]
    },
    {
      "cell_type": "markdown",
      "source": [
        "## 🧪 Preprocesamiento\n",
        "\n",
        "Seleccionamos solo las variables numéricas relevantes para el modelo (`corriente`, `temperatura`, `vibracion`) y la variable objetivo `falla_en_30_dias`.\n",
        "También eliminamos registros con valores faltantes.\n"
      ],
      "metadata": {
        "id": "UHP_MoHic_9g"
      }
    },
    {
      "cell_type": "code",
      "source": [
        "# Selección de columnas relevantes\n",
        "columnas_utiles = ['corriente', 'temperatura', 'vibracion', 'falla_en_30_dias']\n",
        "df_modelo = df[columnas_utiles].dropna()\n",
        "\n",
        "# Verificamos la nueva forma del dataset\n",
        "df_modelo.shape"
      ],
      "metadata": {
        "colab": {
          "base_uri": "https://localhost:8080/"
        },
        "id": "TBNCKtzsdAk7",
        "outputId": "9b2297df-aaf4-45d3-ee21-4c8bfe752e00"
      },
      "execution_count": 39,
      "outputs": [
        {
          "output_type": "execute_result",
          "data": {
            "text/plain": [
              "(1800, 4)"
            ]
          },
          "metadata": {},
          "execution_count": 39
        }
      ]
    },
    {
      "cell_type": "code",
      "source": [
        "# Separación en X (features) e y (target)\n",
        "X = df_modelo.drop('falla_en_30_dias', axis=1)\n",
        "y = df_modelo['falla_en_30_dias']"
      ],
      "metadata": {
        "id": "rwlwG3rpdGu7"
      },
      "execution_count": 40,
      "outputs": []
    },
    {
      "cell_type": "code",
      "source": [
        "# Vemos df_modelo\n",
        "print(\"🔍 Tamaño del dataset:\")\n",
        "print(df_modelo.shape)\n",
        "\n",
        "print(\"\\n🧼 Valores nulos por columna:\")\n",
        "print(df_modelo.isnull().sum())\n",
        "\n",
        "print(\"\\n📊 Distribución de la variable objetivo:\")\n",
        "print(df_modelo['falla_en_30_dias'].value_counts())\n",
        "\n",
        "print(\"\\n📈 Estadísticas descriptivas:\")\n",
        "print(df_modelo.describe().T[['mean', 'std', 'min', 'max']])\n"
      ],
      "metadata": {
        "colab": {
          "base_uri": "https://localhost:8080/"
        },
        "id": "GQjbPVpNfAt5",
        "outputId": "9f10a42f-44af-49c3-b5b4-a39a78ec2f47"
      },
      "execution_count": 41,
      "outputs": [
        {
          "output_type": "stream",
          "name": "stdout",
          "text": [
            "🔍 Tamaño del dataset:\n",
            "(1800, 4)\n",
            "\n",
            "🧼 Valores nulos por columna:\n",
            "corriente           0\n",
            "temperatura         0\n",
            "vibracion           0\n",
            "falla_en_30_dias    0\n",
            "dtype: int64\n",
            "\n",
            "📊 Distribución de la variable objetivo:\n",
            "falla_en_30_dias\n",
            "0    1614\n",
            "1     186\n",
            "Name: count, dtype: int64\n",
            "\n",
            "📈 Estadísticas descriptivas:\n",
            "                         mean          std    min      max\n",
            "corriente         1062.511111   547.266932   72.0   4704.0\n",
            "temperatura       7086.330556  2223.390847  670.0  12582.0\n",
            "vibracion          291.628889   205.109044   14.0   1622.0\n",
            "falla_en_30_dias     0.103333     0.304478    0.0      1.0\n"
          ]
        }
      ]
    },
    {
      "cell_type": "markdown",
      "source": [
        "## 🧠 División en entrenamiento y testeo\n",
        "\n",
        "Dividimos el dataset en datos de entrenamiento y testeo con una proporción 70/30, manteniendo el balance de clases mediante estratificación.\n"
      ],
      "metadata": {
        "id": "w-pjXVDqgOJr"
      }
    },
    {
      "cell_type": "code",
      "source": [
        "from sklearn.model_selection import train_test_split\n",
        "\n",
        "X_train, X_test, y_train, y_test = train_test_split(\n",
        "    X, y, test_size=0.3, random_state=42, stratify=y\n",
        ")\n",
        "\n",
        "print(\"🔹 Tamaño de X_train:\", X_train.shape)\n",
        "print(\"🔹 Tamaño de X_test :\", X_test.shape)\n",
        "print(\"🔹 Distribución en y_train:\")\n",
        "print(y_train.value_counts(normalize=True))\n"
      ],
      "metadata": {
        "colab": {
          "base_uri": "https://localhost:8080/"
        },
        "id": "jtyGugyugPBj",
        "outputId": "7ee35c14-5546-4716-82a2-db5d9752713e"
      },
      "execution_count": 45,
      "outputs": [
        {
          "output_type": "stream",
          "name": "stdout",
          "text": [
            "🔹 Tamaño de X_train: (1260, 3)\n",
            "🔹 Tamaño de X_test : (540, 3)\n",
            "🔹 Distribución en y_train:\n",
            "falla_en_30_dias\n",
            "0    0.896825\n",
            "1    0.103175\n",
            "Name: proportion, dtype: float64\n"
          ]
        }
      ]
    },
    {
      "cell_type": "markdown",
      "source": [
        "## 🌳 Entrenamiento del modelo: Random Forest\n",
        "\n",
        "Entrenamos un modelo de clasificación binaria con Random Forest para predecir si un motor fallará en los próximos 30 días.\n"
      ],
      "metadata": {
        "id": "w33rPEi_iij9"
      }
    },
    {
      "cell_type": "code",
      "source": [
        "from sklearn.ensemble import RandomForestClassifier\n",
        "from sklearn.metrics import classification_report\n",
        "\n",
        "# Inicializar y entrenar el modelo\n",
        "clf = RandomForestClassifier(random_state=42)\n",
        "clf.fit(X_train, y_train)\n",
        "\n",
        "# Predecir con los datos de test\n",
        "y_pred = clf.predict(X_test)\n",
        "\n",
        "# Reporte de métricas\n",
        "print(classification_report(y_test, y_pred))\n"
      ],
      "metadata": {
        "colab": {
          "base_uri": "https://localhost:8080/"
        },
        "id": "t_xRrQnaijvG",
        "outputId": "2fcf50d9-feca-4bc3-e749-dd0d901e9b7a"
      },
      "execution_count": 46,
      "outputs": [
        {
          "output_type": "stream",
          "name": "stdout",
          "text": [
            "              precision    recall  f1-score   support\n",
            "\n",
            "           0       0.94      0.95      0.94       484\n",
            "           1       0.52      0.45      0.48        56\n",
            "\n",
            "    accuracy                           0.90       540\n",
            "   macro avg       0.73      0.70      0.71       540\n",
            "weighted avg       0.89      0.90      0.90       540\n",
            "\n"
          ]
        }
      ]
    },
    {
      "cell_type": "markdown",
      "source": [
        "## 📉 Matriz de Confusión\n",
        "\n",
        "La matriz de confusión permite visualizar cuántos casos fueron correctamente clasificados y cuántos fueron confundidos entre sí.\n"
      ],
      "metadata": {
        "id": "yvzsiUNTjGw6"
      }
    },
    {
      "cell_type": "code",
      "source": [
        "from sklearn.metrics import confusion_matrix\n",
        "import seaborn as sns\n",
        "import matplotlib.pyplot as plt\n",
        "\n",
        "# Calcular matriz de confusión\n",
        "cm = confusion_matrix(y_test, y_pred)\n",
        "\n",
        "# Visualización con heatmap\n",
        "plt.figure(figsize=(5, 4))\n",
        "sns.heatmap(cm, annot=True, fmt='d', cmap='Blues', cbar=False)\n",
        "plt.xlabel(\"Predicción\")\n",
        "plt.ylabel(\"Valor real\")\n",
        "plt.title(\"Matriz de Confusión\")\n",
        "plt.show()\n"
      ],
      "metadata": {
        "colab": {
          "base_uri": "https://localhost:8080/",
          "height": 410
        },
        "id": "EDLHUi22jHea",
        "outputId": "0c5d1ce6-cd4b-42a4-cf09-d6a74d06eb80"
      },
      "execution_count": 47,
      "outputs": [
        {
          "output_type": "display_data",
          "data": {
            "text/plain": [
              "<Figure size 500x400 with 1 Axes>"
            ],
            "image/png": "[encoded data removed]"
          },
          "metadata": {}
        }
      ]
    },
    {
      "cell_type": "markdown",
      "source": [
        "## 📈 Curva ROC y AUC\n",
        "\n",
        "La curva ROC (Receiver Operating Characteristic) muestra la relación entre la tasa de verdaderos positivos (recall) y la tasa de falsos positivos a diferentes umbrales. El AUC (Área Bajo la Curva) resume esta capacidad de separación en un solo número entre 0 y 1.\n"
      ],
      "metadata": {
        "id": "RX6uySSyjum_"
      }
    },
    {
      "cell_type": "code",
      "source": [
        "from sklearn.metrics import roc_curve, roc_auc_score\n",
        "\n",
        "# Probabilidades de predicción para la clase 1\n",
        "y_proba = clf.predict_proba(X_test)[:, 1]\n",
        "\n",
        "# Calcular curva ROC\n",
        "fpr, tpr, thresholds = roc_curve(y_test, y_proba)\n",
        "auc = roc_auc_score(y_test, y_proba)\n",
        "\n",
        "# Graficar curva ROC\n",
        "plt.figure(figsize=(6, 5))\n",
        "plt.plot(fpr, tpr, label=f'AUC = {auc:.2f}', linewidth=2)\n",
        "plt.plot([0, 1], [0, 1], linestyle='--', color='gray')  # Línea base\n",
        "plt.xlabel(\"Tasa de Falsos Positivos (FPR)\")\n",
        "plt.ylabel(\"Tasa de Verdaderos Positivos (TPR)\")\n",
        "plt.title(\"Curva ROC - Random Forest\")\n",
        "plt.legend(loc=\"lower right\")\n",
        "plt.grid(True)\n",
        "plt.show()\n"
      ],
      "metadata": {
        "colab": {
          "base_uri": "https://localhost:8080/",
          "height": 487
        },
        "id": "7mlWmaUQjvPI",
        "outputId": "734dd552-00ee-4257-ee69-527acd7fca42"
      },
      "execution_count": 48,
      "outputs": [
        {
          "output_type": "display_data",
          "data": {
            "text/plain": [
              "<Figure size 600x500 with 1 Axes>"
            ],
            "image/png": "[encoded data removed]"
          },
          "metadata": {}
        }
      ]
    },
    {
      "cell_type": "markdown",
      "source": [
        "## ✅ Resultados clave\n",
        "\n",
        "- **AUC (ROC):** 0.85 → muy buena capacidad predictiva\n",
        "- **F1-score clase positiva (falla):** 0.48 → nivel aceptable de detección para un primer modelo\n",
        "- **Curva ROC y matriz de confusión** muestran que el modelo puede anticipar gran parte de las fallas con bajo nivel de falsas alarmas.\n",
        "\n",
        "---\n",
        "\n",
        "Este sistema puede ser integrado en un entorno industrial para emitir alertas tempranas y priorizar inspecciones, aumentando la eficiencia del mantenimiento preventivo y reduciendo el riesgo de fallas inesperadas.\n"
      ],
      "metadata": {
        "id": "xDnfFoo0qeQe"
      }
    },
    {
      "cell_type": "markdown",
      "source": [
        "## 📊 Enfoque\n",
        "\n",
        "- **Tipo de problema**: Clasificación binaria supervisada\n",
        "- **Variable objetivo**: `falla_en_30_dias` (0 = no falla, 1 = falla)\n",
        "- **Modelo base usado**: Random Forest\n",
        "- **Fuentes de datos**: sensores simulados (corriente, temperatura, vibración), historial de mantenimiento, registros de fallas\n",
        "- **Herramientas**: Python, pandas, scikit-learn, SQL Server, Google Colab\n",
        "\n",
        "---\n"
      ],
      "metadata": {
        "id": "VYK0IqhdtCoS"
      }
    }
  ]
}